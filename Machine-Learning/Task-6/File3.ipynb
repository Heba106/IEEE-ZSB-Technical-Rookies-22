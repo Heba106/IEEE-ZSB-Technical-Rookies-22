{
 "cells": [
  {
   "cell_type": "code",
   "execution_count": 2,
   "metadata": {},
   "outputs": [
    {
     "name": "stdout",
     "output_type": "stream",
     "text": [
      "Epoch 1/10\n",
      "702/702 [==============================] - 59s 84ms/step - loss: 0.6356 - accuracy: 0.6353 - val_loss: 0.5646 - val_accuracy: 0.7062\n",
      "Epoch 2/10\n",
      "702/702 [==============================] - 59s 85ms/step - loss: 0.5460 - accuracy: 0.7242 - val_loss: 0.5102 - val_accuracy: 0.7571\n",
      "Epoch 3/10\n",
      "702/702 [==============================] - 54s 77ms/step - loss: 0.4914 - accuracy: 0.7653 - val_loss: 0.4715 - val_accuracy: 0.7808\n",
      "Epoch 4/10\n",
      "702/702 [==============================] - 53s 75ms/step - loss: 0.4587 - accuracy: 0.7843 - val_loss: 0.4692 - val_accuracy: 0.7727\n",
      "Epoch 5/10\n",
      "702/702 [==============================] - 55s 78ms/step - loss: 0.4336 - accuracy: 0.8008 - val_loss: 0.4538 - val_accuracy: 0.8016\n",
      "Epoch 6/10\n",
      "702/702 [==============================] - 59s 85ms/step - loss: 0.4113 - accuracy: 0.8144 - val_loss: 0.4518 - val_accuracy: 0.7980\n",
      "Epoch 7/10\n",
      "702/702 [==============================] - 56s 80ms/step - loss: 0.3979 - accuracy: 0.8197 - val_loss: 0.4406 - val_accuracy: 0.8052\n",
      "Epoch 8/10\n",
      "702/702 [==============================] - 60s 86ms/step - loss: 0.3765 - accuracy: 0.8308 - val_loss: 0.4479 - val_accuracy: 0.7992\n",
      "Epoch 9/10\n",
      "702/702 [==============================] - 59s 84ms/step - loss: 0.3646 - accuracy: 0.8383 - val_loss: 0.4448 - val_accuracy: 0.7996\n",
      "Epoch 10/10\n",
      "702/702 [==============================] - 57s 81ms/step - loss: 0.3497 - accuracy: 0.8454 - val_loss: 0.4362 - val_accuracy: 0.8076\n"
     ]
    },
    {
     "data": {
      "text/plain": [
       "<tensorflow.python.keras.callbacks.History at 0x1300be01d50>"
      ]
     },
     "execution_count": 2,
     "metadata": {},
     "output_type": "execute_result"
    }
   ],
   "source": [
    "import tensorflow as tf\n",
    "from tensorflow.python.keras.models import Sequential\n",
    "from tensorflow.python.keras.layers import Dense, Dropout, Activation, Flatten, Conv2D, MaxPooling2D\n",
    "import pickle\n",
    "\n",
    "X = pickle.load(open('X.pickle', 'rb'))\n",
    "y = pickle.load(open('y.pickle', 'rb'))\n",
    "\n",
    "X = X / 255.0\n",
    "\n",
    "model = Sequential()\n",
    "\n",
    "\n",
    "model.add(Conv2D(64, (3,3), input_shape=X.shape[1:]))\n",
    "model.add(Activation('relu'))\n",
    "model.add(MaxPooling2D(pool_size=(2,2)))\n",
    "\n",
    "model.add(Conv2D(64, (3,3)))\n",
    "model.add(Activation('relu'))\n",
    "model.add(MaxPooling2D(pool_size=(2,2)))\n",
    "\n",
    "model.add(Flatten())\n",
    "model.add(Dense(64))\n",
    "\n",
    "model.add(Dense(1))\n",
    "model.add(Activation('sigmoid'))\n",
    "\n",
    "model.compile(loss=\"binary_crossentropy\",\n",
    "              optimizer=\"adam\",\n",
    "              metrics=[\"accuracy\"])\n",
    "\n",
    "model.fit(X, y, batch_size=32, epochs=10, validation_split=0.1)"
   ]
  }
 ],
 "metadata": {
  "interpreter": {
   "hash": "00886b0a8b0ac4d0970fdbcd7598369433795ef61d34f7b7c6da0174e44cef3d"
  },
  "kernelspec": {
   "display_name": "Python 3.10.1 64-bit",
   "language": "python",
   "name": "python3"
  },
  "language_info": {
   "codemirror_mode": {
    "name": "ipython",
    "version": 3
   },
   "file_extension": ".py",
   "mimetype": "text/x-python",
   "name": "python",
   "nbconvert_exporter": "python",
   "pygments_lexer": "ipython3",
   "version": "3.10.1"
  },
  "orig_nbformat": 4
 },
 "nbformat": 4,
 "nbformat_minor": 2
}
